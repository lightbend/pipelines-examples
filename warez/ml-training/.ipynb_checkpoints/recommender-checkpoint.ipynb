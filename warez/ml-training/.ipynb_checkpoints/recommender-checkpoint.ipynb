{
 "cells": [
  {
   "cell_type": "code",
   "execution_count": 1,
   "metadata": {
    "collapsed": false
   },
   "outputs": [
    {
     "name": "stderr",
     "output_type": "stream",
     "text": [
      "Using TensorFlow backend.\n"
     ]
    }
   ],
   "source": [
    "import pandas as pd\n",
    "import numpy as np\n",
    "import matplotlib.pyplot as plt\n",
    "import uuid\n",
    "import pickle\n",
    "import base64\n",
    "import json\n",
    "import datetime\n",
    "import avro.schema\n",
    "import avro.io\n",
    "\n",
    "import io, random\n",
    "\n",
    "from avro.datafile import DataFileReader, DataFileWriter\n",
    "from avro.io import DatumReader, DatumWriter\n",
    "from keras.models import Model\n",
    "from keras.layers import *\n",
    "from keras.losses import *\n",
    "import tensorflow as tf\n",
    "from tensorflow.python.tools import freeze_graph\n",
    "from tensorflow.python.tools import optimize_for_inference_lib\n",
    "from keras import backend as K\n"
   ]
  },
  {
   "cell_type": "code",
   "execution_count": 2,
   "metadata": {
    "collapsed": true
   },
   "outputs": [],
   "source": [
    "FILE_PATH = 'data/'"
   ]
  },
  {
   "cell_type": "code",
   "execution_count": 3,
   "metadata": {
    "collapsed": false
   },
   "outputs": [],
   "source": [
    "original_dataset = pd.read_csv(FILE_PATH + 'ratings_uuid_small.csv')"
   ]
  },
  {
   "cell_type": "code",
   "execution_count": 4,
   "metadata": {
    "collapsed": false
   },
   "outputs": [
    {
     "data": {
      "text/html": [
       "<div>\n",
       "<style scoped>\n",
       "    .dataframe tbody tr th:only-of-type {\n",
       "        vertical-align: middle;\n",
       "    }\n",
       "\n",
       "    .dataframe tbody tr th {\n",
       "        vertical-align: top;\n",
       "    }\n",
       "\n",
       "    .dataframe thead th {\n",
       "        text-align: right;\n",
       "    }\n",
       "</style>\n",
       "<table border=\"1\" class=\"dataframe\">\n",
       "  <thead>\n",
       "    <tr style=\"text-align: right;\">\n",
       "      <th></th>\n",
       "      <th>customerId</th>\n",
       "      <th>productId</th>\n",
       "      <th>scaled_purchase_freq</th>\n",
       "    </tr>\n",
       "  </thead>\n",
       "  <tbody>\n",
       "    <tr>\n",
       "      <th>0</th>\n",
       "      <td>19823025-6551-4edd-ace1-56c2c4e22fc7</td>\n",
       "      <td>9910eb1b-9d99-4025-badc-13ef455bb49a</td>\n",
       "      <td>0.133333</td>\n",
       "    </tr>\n",
       "    <tr>\n",
       "      <th>1</th>\n",
       "      <td>e9a87a97-38df-4858-86df-9b02defccd5c</td>\n",
       "      <td>9910eb1b-9d99-4025-badc-13ef455bb49a</td>\n",
       "      <td>0.133333</td>\n",
       "    </tr>\n",
       "    <tr>\n",
       "      <th>2</th>\n",
       "      <td>3775a51c-6a1c-48c9-b119-34027e2ca89d</td>\n",
       "      <td>9910eb1b-9d99-4025-badc-13ef455bb49a</td>\n",
       "      <td>0.133333</td>\n",
       "    </tr>\n",
       "    <tr>\n",
       "      <th>3</th>\n",
       "      <td>8dc2b147-1623-4e06-97a2-57363be9ca18</td>\n",
       "      <td>9910eb1b-9d99-4025-badc-13ef455bb49a</td>\n",
       "      <td>0.133333</td>\n",
       "    </tr>\n",
       "    <tr>\n",
       "      <th>4</th>\n",
       "      <td>3c81221e-714f-490b-b576-94a9460e0ced</td>\n",
       "      <td>9910eb1b-9d99-4025-badc-13ef455bb49a</td>\n",
       "      <td>0.133333</td>\n",
       "    </tr>\n",
       "  </tbody>\n",
       "</table>\n",
       "</div>"
      ],
      "text/plain": [
       "                             customerId                             productId  \\\n",
       "0  19823025-6551-4edd-ace1-56c2c4e22fc7  9910eb1b-9d99-4025-badc-13ef455bb49a   \n",
       "1  e9a87a97-38df-4858-86df-9b02defccd5c  9910eb1b-9d99-4025-badc-13ef455bb49a   \n",
       "2  3775a51c-6a1c-48c9-b119-34027e2ca89d  9910eb1b-9d99-4025-badc-13ef455bb49a   \n",
       "3  8dc2b147-1623-4e06-97a2-57363be9ca18  9910eb1b-9d99-4025-badc-13ef455bb49a   \n",
       "4  3c81221e-714f-490b-b576-94a9460e0ced  9910eb1b-9d99-4025-badc-13ef455bb49a   \n",
       "\n",
       "   scaled_purchase_freq  \n",
       "0              0.133333  \n",
       "1              0.133333  \n",
       "2              0.133333  \n",
       "3              0.133333  \n",
       "4              0.133333  "
      ]
     },
     "execution_count": 4,
     "metadata": {},
     "output_type": "execute_result"
    }
   ],
   "source": [
    "original_dataset.head()"
   ]
  },
  {
   "cell_type": "code",
   "execution_count": 5,
   "metadata": {
    "collapsed": false
   },
   "outputs": [],
   "source": [
    "# simulating real world data - replace customer id and product id with unique UUIDs\n",
    "\n",
    "dataset = original_dataset\n",
    "\n",
    "# customerId = dataset['customerId'].unique().tolist()\n",
    "# uuids = []\n",
    "# for index in range (0, len(customerId)):\n",
    "#     uuids.append(str(uuid.uuid4()))\n",
    "    \n",
    "# mapping = dict( zip(customerId, uuids) )\n",
    "# dataset.replace({'customerId': mapping},inplace=True)\n",
    "\n",
    "# productId = dataset['productId'].unique().tolist()\n",
    "# uuids = []\n",
    "# for index in range (0, len(productId)):\n",
    "#     uuids.append(str(uuid.uuid4()))\n",
    "    \n",
    "# mapping = dict( zip(productId, uuids) )\n",
    "# dataset.replace({'productId': mapping},inplace=True)\n",
    "\n",
    "# dataset.to_csv(\"ratings_with_uuid.csv\")"
   ]
  },
  {
   "cell_type": "markdown",
   "metadata": {},
   "source": [
    "## Convert Customer and Product Ids to integers"
   ]
  },
  {
   "cell_type": "code",
   "execution_count": 6,
   "metadata": {
    "collapsed": false
   },
   "outputs": [],
   "source": [
    "# now we have the dataset like the actual dataset with strings in customerId and productId\n",
    "# replace each with integers\n",
    "\n",
    "customerIds = dataset['customerId'].unique().tolist()\n",
    "customerMapping = dict( zip(customerIds, range(len(customerIds))) )\n",
    "dataset.replace({'customerId': customerMapping},inplace=True)\n",
    "\n",
    "productIds = dataset['productId'].unique().tolist()\n",
    "productMapping = dict( zip(productIds, range(len(productIds))) )\n",
    "dataset.replace({'productId': productMapping},inplace=True)"
   ]
  },
  {
   "cell_type": "code",
   "execution_count": 7,
   "metadata": {
    "collapsed": false
   },
   "outputs": [],
   "source": [
    "customer_idxs = np.array(dataset.customerId, dtype = np.int)\n",
    "product_idxs = np.array(dataset.productId, dtype = np.int)\n",
    "\n",
    "ratings = np.array(dataset.scaled_purchase_freq)"
   ]
  },
  {
   "cell_type": "markdown",
   "metadata": {},
   "source": [
    "## Data Pre-processing"
   ]
  },
  {
   "cell_type": "code",
   "execution_count": 8,
   "metadata": {
    "collapsed": false
   },
   "outputs": [],
   "source": [
    "n_customers = int(dataset['customerId'].drop_duplicates().max()) + 1\n",
    "n_products = int(dataset['productId'].drop_duplicates().max()) + 1\n",
    "n_factors = 50\n",
    "\n",
    "input_shape = (1,)"
   ]
  },
  {
   "cell_type": "code",
   "execution_count": 9,
   "metadata": {
    "collapsed": false
   },
   "outputs": [
    {
     "name": "stdout",
     "output_type": "stream",
     "text": [
      "1895\n",
      "2\n"
     ]
    }
   ],
   "source": [
    "print(n_customers)\n",
    "print(n_products)"
   ]
  },
  {
   "cell_type": "markdown",
   "metadata": {},
   "source": [
    "## Tensorflow Session"
   ]
  },
  {
   "cell_type": "code",
   "execution_count": 10,
   "metadata": {
    "collapsed": true
   },
   "outputs": [],
   "source": [
    "# create TF session and set it in Keras\n",
    "sess = tf.Session()\n",
    "K.set_session(sess)\n",
    "K.set_learning_phase(1)"
   ]
  },
  {
   "cell_type": "markdown",
   "metadata": {},
   "source": [
    "## The Model"
   ]
  },
  {
   "cell_type": "code",
   "execution_count": 11,
   "metadata": {
    "collapsed": true
   },
   "outputs": [],
   "source": [
    "class DeepCollaborativeFiltering(Model):\n",
    "    def __init__(self, n_customers, n_products, n_factors, p_dropout = 0.2):\n",
    "        x1 = Input(shape = (1,), name=\"user\")\n",
    "\n",
    "        P = Embedding(n_customers, n_factors, input_length = 1)(x1)\n",
    "        P = Reshape((n_factors,))(P)\n",
    "\n",
    "        x2 = Input(shape = (1,), name=\"product\")\n",
    "\n",
    "        Q = Embedding(n_products, n_factors, input_length = 1)(x2)\n",
    "        Q = Reshape((n_factors,))(Q)\n",
    "\n",
    "        x = concatenate([P, Q], axis=1)\n",
    "        x = Dropout(p_dropout)(x)\n",
    "\n",
    "        x = Dense(n_factors)(x)\n",
    "        x = Activation('relu')(x)\n",
    "        x = Dropout(p_dropout)(x)\n",
    "\n",
    "        output = Dense(1)(x)       \n",
    "        \n",
    "        super(DeepCollaborativeFiltering, self).__init__([x1, x2], output)\n",
    "    \n",
    "    def rate(self, customer_idxs, product_idxs):\n",
    "        if (type(customer_idxs) == int and type(product_idxs) == int):\n",
    "            return self.predict([np.array(customer_idxs).reshape((1,)), np.array(product_idxs).reshape((1,))])\n",
    "        \n",
    "        if (type(customer_idxs) == str and type(product_idxs) == str):\n",
    "            return self.predict([np.array(customerMapping[customer_idxs]).reshape((1,)), np.array(productMapping[product_idxs]).reshape((1,))])\n",
    "        \n",
    "        return self.predict([\n",
    "            np.array([customerMapping[customer_idx] for customer_idx in customer_idxs]), \n",
    "            np.array([productMapping[product_idx] for product_idx in product_idxs])\n",
    "        ])"
   ]
  },
  {
   "cell_type": "markdown",
   "metadata": {},
   "source": [
    "## Hyperparameters"
   ]
  },
  {
   "cell_type": "code",
   "execution_count": 12,
   "metadata": {
    "collapsed": false
   },
   "outputs": [],
   "source": [
    "bs = 64\n",
    "val_per = 0.25\n",
    "epochs = 1"
   ]
  },
  {
   "cell_type": "code",
   "execution_count": 13,
   "metadata": {
    "collapsed": false
   },
   "outputs": [],
   "source": [
    "model = DeepCollaborativeFiltering(n_customers, n_products, n_factors)"
   ]
  },
  {
   "cell_type": "code",
   "execution_count": 14,
   "metadata": {
    "collapsed": false
   },
   "outputs": [
    {
     "name": "stdout",
     "output_type": "stream",
     "text": [
      "__________________________________________________________________________________________________\n",
      "Layer (type)                    Output Shape         Param #     Connected to                     \n",
      "==================================================================================================\n",
      "user (InputLayer)               (None, 1)            0                                            \n",
      "__________________________________________________________________________________________________\n",
      "product (InputLayer)            (None, 1)            0                                            \n",
      "__________________________________________________________________________________________________\n",
      "embedding_1 (Embedding)         (None, 1, 50)        94750       user[0][0]                       \n",
      "__________________________________________________________________________________________________\n",
      "embedding_2 (Embedding)         (None, 1, 50)        100         product[0][0]                    \n",
      "__________________________________________________________________________________________________\n",
      "reshape_1 (Reshape)             (None, 50)           0           embedding_1[0][0]                \n",
      "__________________________________________________________________________________________________\n",
      "reshape_2 (Reshape)             (None, 50)           0           embedding_2[0][0]                \n",
      "__________________________________________________________________________________________________\n",
      "concatenate_1 (Concatenate)     (None, 100)          0           reshape_1[0][0]                  \n",
      "                                                                 reshape_2[0][0]                  \n",
      "__________________________________________________________________________________________________\n",
      "dropout_1 (Dropout)             (None, 100)          0           concatenate_1[0][0]              \n",
      "__________________________________________________________________________________________________\n",
      "dense_1 (Dense)                 (None, 50)           5050        dropout_1[0][0]                  \n",
      "__________________________________________________________________________________________________\n",
      "activation_1 (Activation)       (None, 50)           0           dense_1[0][0]                    \n",
      "__________________________________________________________________________________________________\n",
      "dropout_2 (Dropout)             (None, 50)           0           activation_1[0][0]               \n",
      "__________________________________________________________________________________________________\n",
      "dense_2 (Dense)                 (None, 1)            51          dropout_2[0][0]                  \n",
      "==================================================================================================\n",
      "Total params: 99,951\n",
      "Trainable params: 99,951\n",
      "Non-trainable params: 0\n",
      "__________________________________________________________________________________________________\n"
     ]
    }
   ],
   "source": [
    "model.summary()"
   ]
  },
  {
   "cell_type": "markdown",
   "metadata": {},
   "source": [
    "## Training"
   ]
  },
  {
   "cell_type": "code",
   "execution_count": 15,
   "metadata": {
    "collapsed": false
   },
   "outputs": [],
   "source": [
    "model.compile(optimizer = 'adam', loss = mean_squared_logarithmic_error)"
   ]
  },
  {
   "cell_type": "code",
   "execution_count": 16,
   "metadata": {
    "collapsed": false,
    "scrolled": true
   },
   "outputs": [
    {
     "name": "stdout",
     "output_type": "stream",
     "text": [
      "Train on 1499 samples, validate on 500 samples\n",
      "Epoch 1/1\n",
      "1499/1499 [==============================] - 1s 667us/step - loss: 0.0085 - val_loss: 0.0080\b\b\b\b\b\b\b\b\b\b\b\b\b\b\b\b\b\b\b\b\b\b\b\b\b\b\b\b\b\b\b\b\b\b\b\b\b\b\b\b\b\b\b\b\b\b\b\b\b\b\b\b\b\b\b\b\b\b\b\b\b\b\b\b\b\b\b\b\b\b\b\b\b\b\b\b\b\b\b\b\b\b\b\b\b\b\b\b\b\b\b\b\b\b\b\b\b\b\b\b\b\b\b\b\b\b\b\b\b\b\b\b\b\b\b\b\b\b\b\b\b\b\b\b\b\b\b\b\b\b\b\b\b\b\b\b\b\b\b\b\b\b\b\b\b\b\b\b\b\b\b\b\b\b\b\b\b\b\b\b\b\b\b\b\b\b\b\b\b\b\b\b\b\b\b\b\b\b\n"
     ]
    },
    {
     "data": {
      "text/plain": [
       "<keras.callbacks.History at 0x1a36decf60>"
      ]
     },
     "execution_count": 16,
     "metadata": {},
     "output_type": "execute_result"
    }
   ],
   "source": [
    "model.fit(x = [customer_idxs, product_idxs], y = ratings, batch_size = bs, epochs = epochs, validation_split = val_per)"
   ]
  },
  {
   "cell_type": "code",
   "execution_count": 17,
   "metadata": {
    "collapsed": false
   },
   "outputs": [
    {
     "data": {
      "text/plain": [
       "array([[ 0.132982]], dtype=float32)"
      ]
     },
     "execution_count": 17,
     "metadata": {},
     "output_type": "execute_result"
    }
   ],
   "source": [
    "model.rate(9, 0)"
   ]
  },
  {
   "cell_type": "code",
   "execution_count": 18,
   "metadata": {
    "collapsed": false
   },
   "outputs": [
    {
     "data": {
      "text/plain": [
       "array([[ 0.19379579]], dtype=float32)"
      ]
     },
     "execution_count": 18,
     "metadata": {},
     "output_type": "execute_result"
    }
   ],
   "source": [
    "model.rate('e9a87a97-38df-4858-86df-9b02defccd5c', '9910eb1b-9d99-4025-badc-13ef455bb49a')"
   ]
  },
  {
   "cell_type": "code",
   "execution_count": 19,
   "metadata": {
    "collapsed": false
   },
   "outputs": [
    {
     "data": {
      "text/plain": [
       "array([[ 0.16130564]], dtype=float32)"
      ]
     },
     "execution_count": 19,
     "metadata": {},
     "output_type": "execute_result"
    }
   ],
   "source": [
    "model.rate(25, 0)"
   ]
  },
  {
   "cell_type": "code",
   "execution_count": 20,
   "metadata": {
    "collapsed": false
   },
   "outputs": [
    {
     "data": {
      "text/plain": [
       "'strided_slice:0'"
      ]
     },
     "execution_count": 20,
     "metadata": {},
     "output_type": "execute_result"
    }
   ],
   "source": [
    "model.output[1].name"
   ]
  },
  {
   "cell_type": "markdown",
   "metadata": {},
   "source": [
    "## Save Tensorflow Model"
   ]
  },
  {
   "cell_type": "code",
   "execution_count": 21,
   "metadata": {
    "collapsed": false
   },
   "outputs": [
    {
     "name": "stdout",
     "output_type": "stream",
     "text": [
      "Done training!\n",
      "input 0 user:0\n",
      "input 1 product:0\n",
      "input  [<tf.Tensor 'user:0' shape=(?, 1) dtype=float32>, <tf.Tensor 'product:0' shape=(?, 1) dtype=float32>]\n",
      "output 0 strided_slice_1:0\n",
      "output 1 strided_slice_2:0\n",
      "output Tensor(\"dense_2/BiasAdd:0\", shape=(?, 1), dtype=float32)\n"
     ]
    }
   ],
   "source": [
    "print('Done training!')\n",
    "\n",
    "print (\"input 0\", model.input[0].name)\n",
    "print (\"input 1\", model.input[1].name)\n",
    "print (\"input \", model.input)\n",
    "\n",
    "print (\"output 0\", model.output[0].name)\n",
    "print (\"output 1\", model.output[1].name)\n",
    "print (\"output\", model.output)\n",
    "\n",
    "# create the saver\n",
    "# Saver op to save and restore all the variables\n",
    "saver = tf.train.Saver()"
   ]
  },
  {
   "cell_type": "code",
   "execution_count": 22,
   "metadata": {
    "collapsed": false
   },
   "outputs": [
    {
     "name": "stdout",
     "output_type": "stream",
     "text": [
      "Saved model at  /Users/debasishghosh/models/ProductRecommender.ckpt\n",
      "Saved graph at : /Users/debasishghosh/models/ProductRecommender.pb\n"
     ]
    }
   ],
   "source": [
    "# Save produced model\n",
    "model_path = \"/Users/debasishghosh/models/\"\n",
    "model_name = \"ProductRecommender\"\n",
    "save_path = saver.save(sess, model_path+model_name+\".ckpt\")\n",
    "print (\"Saved model at \", save_path)\n",
    "graph_path = tf.train.write_graph(sess.graph_def, model_path, model_name+\".pb\", as_text=True)\n",
    "print (\"Saved graph at :\", graph_path)"
   ]
  },
  {
   "cell_type": "markdown",
   "metadata": {},
   "source": [
    "## Freeze Computation Graph"
   ]
  },
  {
   "cell_type": "code",
   "execution_count": 23,
   "metadata": {
    "collapsed": false
   },
   "outputs": [
    {
     "name": "stdout",
     "output_type": "stream",
     "text": [
      "WARNING:tensorflow:From /Users/debasishghosh/anaconda3/lib/python3.6/site-packages/tensorflow/python/tools/freeze_graph.py:249: FastGFile.__init__ (from tensorflow.python.platform.gfile) is deprecated and will be removed in a future version.\n",
      "Instructions for updating:\n",
      "Use tf.gfile.GFile.\n",
      "INFO:tensorflow:Restoring parameters from /Users/debasishghosh/models/ProductRecommender.ckpt\n",
      "INFO:tensorflow:Froze 6 variables.\n",
      "INFO:tensorflow:Converted 6 variables to const ops.\n",
      "Model is frozen\n"
     ]
    }
   ],
   "source": [
    "# Now freeze the graph (put variables into graph)\n",
    "\n",
    "input_saver_def_path = \"\"\n",
    "input_binary = False\n",
    "output_node_names = \"dense_2/BiasAdd\"          # Model result node\n",
    "\n",
    "restore_op_name = \"save/restore_all\"\n",
    "filename_tensor_name = \"save/Const:0\"\n",
    "output_frozen_graph_name = model_path + 'frozen_' + model_name + '.pb'\n",
    "clear_devices = True\n",
    "\n",
    "\n",
    "freeze_graph.freeze_graph(graph_path, input_saver_def_path,\n",
    "                         input_binary, save_path, output_node_names,\n",
    "                         restore_op_name, filename_tensor_name,\n",
    "                         output_frozen_graph_name, clear_devices, \"\")\n",
    "print (\"Model is frozen\")"
   ]
  },
  {
   "cell_type": "markdown",
   "metadata": {},
   "source": [
    "## Optimize and Save Optimzed Graph"
   ]
  },
  {
   "cell_type": "code",
   "execution_count": 24,
   "metadata": {
    "collapsed": false
   },
   "outputs": [],
   "source": [
    "# optimizing graph\n",
    "\n",
    "input_graph_def = tf.GraphDef()\n",
    "with tf.gfile.Open(output_frozen_graph_name, \"rb\") as f:\n",
    "   data = f.read()\n",
    "   input_graph_def.ParseFromString(data)\n",
    "\n",
    "\n",
    "output_graph_def = optimize_for_inference_lib.optimize_for_inference(\n",
    "   input_graph_def,\n",
    "   ['user', 'product'],      # an array of the input node(s)\n",
    "   [\"dense_2/BiasAdd\"],      # an array of output nodes\n",
    "   tf.float32.as_datatype_enum)"
   ]
  },
  {
   "cell_type": "code",
   "execution_count": 25,
   "metadata": {
    "collapsed": false
   },
   "outputs": [
    {
     "data": {
      "text/plain": [
       "['dense_2/BiasAdd']"
      ]
     },
     "execution_count": 25,
     "metadata": {},
     "output_type": "execute_result"
    }
   ],
   "source": [
    "[node.op.name for node in model.outputs]"
   ]
  },
  {
   "cell_type": "code",
   "execution_count": 26,
   "metadata": {
    "collapsed": false
   },
   "outputs": [
    {
     "data": {
      "text/plain": [
       "['user', 'product']"
      ]
     },
     "execution_count": 26,
     "metadata": {},
     "output_type": "execute_result"
    }
   ],
   "source": [
    "[node.op.name for node in model.inputs]"
   ]
  },
  {
   "cell_type": "code",
   "execution_count": 27,
   "metadata": {
    "collapsed": false
   },
   "outputs": [
    {
     "data": {
      "text/plain": [
       "'/Users/debasishghosh/models/optimized_text_ProductRecommender.pb'"
      ]
     },
     "execution_count": 27,
     "metadata": {},
     "output_type": "execute_result"
    }
   ],
   "source": [
    "# Save the optimized graph\n",
    "\n",
    "tf.train.write_graph(output_graph_def, model_path, \"optimized_\" + model_name + \".pb\", as_text=False)\n",
    "tf.train.write_graph(output_graph_def, model_path, \"optimized_text_\" + model_name + \".pb\", as_text=True)"
   ]
  },
  {
   "cell_type": "markdown",
   "metadata": {},
   "source": [
    "## Read optimized graph as binary"
   ]
  },
  {
   "cell_type": "code",
   "execution_count": 28,
   "metadata": {
    "collapsed": true
   },
   "outputs": [],
   "source": [
    "with open(model_path + \"optimized_\" + model_name + \".pb\", \"rb\") as f:\n",
    "    model_file_binary = f.read()"
   ]
  },
  {
   "cell_type": "markdown",
   "metadata": {},
   "source": [
    "## Generate Model Id"
   ]
  },
  {
   "cell_type": "code",
   "execution_count": 29,
   "metadata": {
    "collapsed": true
   },
   "outputs": [],
   "source": [
    "## generate a model Id based on current timestamp\n",
    "model_id = 'recommender-model-' + '{:%Y-%m-%d-%H:%M:%S}'.format(datetime.datetime.now())"
   ]
  },
  {
   "cell_type": "markdown",
   "metadata": {},
   "source": [
    "## Generate Avro with Schema"
   ]
  },
  {
   "cell_type": "code",
   "execution_count": 30,
   "metadata": {
    "collapsed": false
   },
   "outputs": [],
   "source": [
    "## Generate avro directly\n",
    "\n",
    "# Parse the schema file\n",
    "schema = avro.schema.Parse(open(\"avro/RecommenderModel.avsc\", \"rb\").read())\n",
    "\n",
    "# Create a data file using DataFileWriter\n",
    "dataFile = open(model_path + \"recommender.avro\", \"wb\")\n",
    "\n",
    "writer = DataFileWriter(dataFile, DatumWriter(), schema)\n",
    "\n",
    "# Write data using DatumWriter\n",
    "writer.append({\"modelId\": model_id,\n",
    "               \"tensorFlowModel\": model_file_binary,\n",
    "               \"productMap\": productMapping,\n",
    "               \"customerMap\": customerMapping\n",
    "              })\n",
    "\n",
    "writer.close()"
   ]
  },
  {
   "cell_type": "code",
   "execution_count": 31,
   "metadata": {
    "collapsed": false
   },
   "outputs": [],
   "source": [
    "reader = DataFileReader(open(model_path + \"recommender.avro\", \"rb\"), DatumReader())\n",
    "for model in reader:\n",
    "    r = model\n",
    "reader.close()"
   ]
  },
  {
   "cell_type": "code",
   "execution_count": 32,
   "metadata": {
    "collapsed": false
   },
   "outputs": [
    {
     "data": {
      "text/plain": [
       "dict"
      ]
     },
     "execution_count": 32,
     "metadata": {},
     "output_type": "execute_result"
    }
   ],
   "source": [
    "type(r)"
   ]
  },
  {
   "cell_type": "code",
   "execution_count": 33,
   "metadata": {
    "collapsed": false
   },
   "outputs": [
    {
     "data": {
      "text/plain": [
       "dict_keys(['modelId', 'tensorFlowModel', 'productMap', 'customerMap'])"
      ]
     },
     "execution_count": 33,
     "metadata": {},
     "output_type": "execute_result"
    }
   ],
   "source": [
    "r.keys()"
   ]
  },
  {
   "cell_type": "code",
   "execution_count": 34,
   "metadata": {
    "collapsed": false
   },
   "outputs": [
    {
     "data": {
      "text/plain": [
       "'recommender-model-2019-01-31-16:12:38'"
      ]
     },
     "execution_count": 34,
     "metadata": {},
     "output_type": "execute_result"
    }
   ],
   "source": [
    "r[\"modelId\"]"
   ]
  },
  {
   "cell_type": "code",
   "execution_count": 35,
   "metadata": {
    "collapsed": false
   },
   "outputs": [
    {
     "data": {
      "text/plain": [
       "{'053b5372-a630-43b6-b0ad-29770dff6a7e': 1,\n",
       " '9910eb1b-9d99-4025-badc-13ef455bb49a': 0}"
      ]
     },
     "execution_count": 35,
     "metadata": {},
     "output_type": "execute_result"
    }
   ],
   "source": [
    "r[\"productMap\"]"
   ]
  },
  {
   "cell_type": "markdown",
   "metadata": {},
   "source": [
    "## Generate Avro Schemaless"
   ]
  },
  {
   "cell_type": "code",
   "execution_count": 36,
   "metadata": {
    "collapsed": false
   },
   "outputs": [
    {
     "data": {
      "text/plain": [
       "{'053b5372-a630-43b6-b0ad-29770dff6a7e': 1,\n",
       " '9910eb1b-9d99-4025-badc-13ef455bb49a': 0}"
      ]
     },
     "execution_count": 36,
     "metadata": {},
     "output_type": "execute_result"
    }
   ],
   "source": [
    "writer = avro.io.DatumWriter(schema)\n",
    "\n",
    "bytes_writer = io.BytesIO()\n",
    "encoder = avro.io.BinaryEncoder(bytes_writer)\n",
    "    \n",
    "# Write data using DatumWriter\n",
    "writer.write({\"modelId\": model_id,\n",
    "              \"tensorFlowModel\": model_file_binary,\n",
    "              \"productMap\": productMapping,\n",
    "              \"customerMap\": customerMapping\n",
    "              }, encoder)\n",
    "raw_bytes = bytes_writer.getvalue()\n",
    "\n",
    "open(model_path + \"recommender-no-schema.avro\", 'wb').write(raw_bytes)\n",
    "\n",
    "bytes_reader = io.BytesIO(raw_bytes)\n",
    "decoder = avro.io.BinaryDecoder(bytes_reader)\n",
    "reader = avro.io.DatumReader(schema)\n",
    "r = reader.read(decoder)\n",
    "r[\"productMap\"]"
   ]
  },
  {
   "cell_type": "code",
   "execution_count": null,
   "metadata": {
    "collapsed": true
   },
   "outputs": [],
   "source": []
  }
 ],
 "metadata": {
  "kernelspec": {
   "display_name": "Python [default]",
   "language": "python",
   "name": "python3"
  },
  "language_info": {
   "codemirror_mode": {
    "name": "ipython",
    "version": 3
   },
   "file_extension": ".py",
   "mimetype": "text/x-python",
   "name": "python",
   "nbconvert_exporter": "python",
   "pygments_lexer": "ipython3",
   "version": "3.6.8"
  }
 },
 "nbformat": 4,
 "nbformat_minor": 2
}
